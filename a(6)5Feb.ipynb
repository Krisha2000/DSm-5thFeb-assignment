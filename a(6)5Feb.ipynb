{
 "cells": [
  {
   "cell_type": "markdown",
   "id": "ac65e168-2555-456e-9edc-b4a0f089a090",
   "metadata": {},
   "source": [
    "# Quetion :- 1"
   ]
  },
  {
   "cell_type": "markdown",
   "id": "e80a8c01-03e7-4311-bdfb-6c1ba463c9f3",
   "metadata": {},
   "source": [
    "Class: A class is a blueprint or template for creating objects. It defines the properties and behaviors of an object.\n",
    "\n",
    "Object: An object is an instance of a class. It has its own state, behavior, and identity.\n",
    "\n",
    "Example: Consider a Car class. This class can have properties such as color, make, model, and year. It can also have behaviors such as accelerate, brake, and turn. An object of this class would be a specific car with its own color, make, model, and year. It would also have the ability to accelerate, brake,and turn."
   ]
  },
  {
   "cell_type": "markdown",
   "id": "02a7df6a-04b0-4e67-90f4-5a4551acd2de",
   "metadata": {},
   "source": [
    "# Quetion :- 2"
   ]
  },
  {
   "cell_type": "markdown",
   "id": "28a69458-0b76-4dfd-b23e-b33aab97c817",
   "metadata": {},
   "source": [
    "1. Abstraction\n",
    "2. Encapsulation\n",
    "3. Inheritance\n",
    "4. Polymorphism"
   ]
  },
  {
   "cell_type": "markdown",
   "id": "2b92d4ea-7318-45ca-837b-976642d0a391",
   "metadata": {},
   "source": [
    "# Quetion :- 3"
   ]
  },
  {
   "cell_type": "markdown",
   "id": "c14c4658-ac72-4679-897c-893f7dea585f",
   "metadata": {},
   "source": [
    "The  __init__()    function is used to initialize an object's state. It is called when an object of a class is created. It can be used to set the default values for the attributes of the object.\n",
    "\n",
    "For example, if we have a class called 'Car', we can use the __init__() function to set the default values for the attributes of a car such as its color, make, model, etc.\n",
    "\n"
   ]
  },
  {
   "cell_type": "code",
   "execution_count": 5,
   "id": "1946f1aa-3f4e-4029-b49a-63ecb80c1b2f",
   "metadata": {},
   "outputs": [],
   "source": [
    "def __init__(self, color='red', make='Honda', model='Civic'):\n",
    "    self.color = color\n",
    "    self.make = make\n",
    "    \n",
    "    self.model = model"
   ]
  },
  {
   "cell_type": "markdown",
   "id": "1e8b9991-72c6-4171-a637-18e4f561e090",
   "metadata": {},
   "source": [
    "# Quetion :- 4"
   ]
  },
  {
   "cell_type": "markdown",
   "id": "f923beab-57d6-4610-8114-f5ac97005c65",
   "metadata": {},
   "source": [
    "Self is used in Object-Oriented Programming (OOP) to refer to the current instance of a class. It can be used to access variables that belongs to the class and it can also be used to call other class methods. Self allows programmers to easily access data that is contained within the class without having to pass it as an argument to a method."
   ]
  },
  {
   "cell_type": "markdown",
   "id": "65f3f83a-d61f-4e0f-9b3d-7848677e89a5",
   "metadata": {},
   "source": [
    "# Quetion :- 5"
   ]
  },
  {
   "cell_type": "markdown",
   "id": "0a84df61-3ff4-40c6-bd4d-893df8f00d00",
   "metadata": {},
   "source": [
    "One of the core concepts in object-oriented programming (OOP) languages is inheritance. It is a mechanism that allows you to create a hierarchy of classes that share a set of properties and methods by deriving a class from another class. Inheritance is the capability of one class to derive or inherit the properties from another class.\n",
    "\n",
    "Single inheritance: When a child class inherits from only one parent class, it is called single inheritance. We saw an example above.\n",
    "\n",
    "Multiple inheritances: When a child class inherits from multiple parent classes, it is called multiple inheritances. \n",
    "\n",
    "Multilevel inheritance: When we have a child and grandchild relationship. \n",
    "\n",
    "Hierarchical inheritance More than one derived class are created from a single base.\n",
    "\n",
    "Hybrid inheritance: This form combines more than one form of inheritance. Basically, it is a blend of more than one type of inheritance."
   ]
  },
  {
   "cell_type": "code",
   "execution_count": null,
   "id": "ae8a5a32-1e5d-4143-b110-32e4443ad03d",
   "metadata": {},
   "outputs": [],
   "source": []
  }
 ],
 "metadata": {
  "kernelspec": {
   "display_name": "Python 3 (ipykernel)",
   "language": "python",
   "name": "python3"
  },
  "language_info": {
   "codemirror_mode": {
    "name": "ipython",
    "version": 3
   },
   "file_extension": ".py",
   "mimetype": "text/x-python",
   "name": "python",
   "nbconvert_exporter": "python",
   "pygments_lexer": "ipython3",
   "version": "3.10.8"
  }
 },
 "nbformat": 4,
 "nbformat_minor": 5
}
